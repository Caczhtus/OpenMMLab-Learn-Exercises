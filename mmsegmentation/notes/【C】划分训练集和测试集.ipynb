{
 "cells": [
  {
   "cell_type": "markdown",
   "id": "9621e3b1-dd42-479c-8b80-6dc6a8e875e3",
   "metadata": {},
   "source": [
    "# 划分训练集和测试集\n",
    "\n",
    "同济子豪兄\n",
    "\n",
    "2023-1-31"
   ]
  },
  {
   "cell_type": "markdown",
   "id": "24228f54-9782-4a9f-9464-880679ec8f30",
   "metadata": {},
   "source": [
    "## 导入工具包"
   ]
  },
  {
   "cell_type": "code",
   "execution_count": 1,
   "id": "447de385-68b8-454d-a60b-524c1bffedca",
   "metadata": {
    "execution": {
     "iopub.execute_input": "2023-02-13T14:38:25.398488Z",
     "iopub.status.busy": "2023-02-13T14:38:25.398239Z",
     "iopub.status.idle": "2023-02-13T14:38:25.404747Z",
     "shell.execute_reply": "2023-02-13T14:38:25.404191Z",
     "shell.execute_reply.started": "2023-02-13T14:38:25.398438Z"
    }
   },
   "outputs": [],
   "source": [
    "import os\n",
    "import random"
   ]
  },
  {
   "cell_type": "markdown",
   "id": "50dfb718-8b9a-4560-8274-a1ed124d168f",
   "metadata": {},
   "source": [
    "## 获取全部数据文件名列表"
   ]
  },
  {
   "cell_type": "code",
   "execution_count": 2,
   "id": "a52895dd-f2cc-454e-84bf-732b75ffddeb",
   "metadata": {
    "execution": {
     "iopub.execute_input": "2023-02-13T14:38:25.406286Z",
     "iopub.status.busy": "2023-02-13T14:38:25.406074Z",
     "iopub.status.idle": "2023-02-13T14:38:25.408786Z",
     "shell.execute_reply": "2023-02-13T14:38:25.408336Z",
     "shell.execute_reply.started": "2023-02-13T14:38:25.406268Z"
    },
    "tags": []
   },
   "outputs": [],
   "source": [
    "PATH_IMAGE = '/openbayes/input/input1/Glomeruli-dataset/images'"
   ]
  },
  {
   "cell_type": "code",
   "execution_count": 3,
   "id": "467b3a08-22a9-4454-9bc6-2e2faa52c1a5",
   "metadata": {
    "execution": {
     "iopub.execute_input": "2023-02-13T14:38:25.409591Z",
     "iopub.status.busy": "2023-02-13T14:38:25.409388Z",
     "iopub.status.idle": "2023-02-13T14:38:25.414285Z",
     "shell.execute_reply": "2023-02-13T14:38:25.413852Z",
     "shell.execute_reply.started": "2023-02-13T14:38:25.409573Z"
    },
    "tags": []
   },
   "outputs": [],
   "source": [
    "all_file_list = os.listdir(PATH_IMAGE)\n",
    "all_file_num = len(all_file_list)\n",
    "random.shuffle(all_file_list) # 随机打乱全部数据文件名列表"
   ]
  },
  {
   "cell_type": "markdown",
   "id": "d4010c0e-0587-4360-af64-530424293b93",
   "metadata": {},
   "source": [
    "## 指定训练集和测试集比例"
   ]
  },
  {
   "cell_type": "code",
   "execution_count": 4,
   "id": "4a9d9297-5267-4b6b-ab66-e5d8e0d82d5f",
   "metadata": {
    "execution": {
     "iopub.execute_input": "2023-02-13T14:38:25.415107Z",
     "iopub.status.busy": "2023-02-13T14:38:25.414901Z",
     "iopub.status.idle": "2023-02-13T14:38:25.417480Z",
     "shell.execute_reply": "2023-02-13T14:38:25.417048Z",
     "shell.execute_reply.started": "2023-02-13T14:38:25.415090Z"
    },
    "tags": []
   },
   "outputs": [],
   "source": [
    "train_ratio = 0.8\n",
    "test_ratio = 1 - train_ratio"
   ]
  },
  {
   "cell_type": "code",
   "execution_count": 5,
   "id": "0748ec32-3eb8-4f97-9a36-7c0c960fe89d",
   "metadata": {
    "execution": {
     "iopub.execute_input": "2023-02-13T14:38:25.418278Z",
     "iopub.status.busy": "2023-02-13T14:38:25.418076Z",
     "iopub.status.idle": "2023-02-13T14:38:25.420901Z",
     "shell.execute_reply": "2023-02-13T14:38:25.420464Z",
     "shell.execute_reply.started": "2023-02-13T14:38:25.418260Z"
    },
    "tags": []
   },
   "outputs": [],
   "source": [
    "train_file_list = all_file_list[:int(all_file_num*train_ratio)]\n",
    "test_file_list = all_file_list[int(all_file_num*train_ratio):]"
   ]
  },
  {
   "cell_type": "code",
   "execution_count": 6,
   "id": "69664f88-f85f-4049-94db-a890edd5a8ca",
   "metadata": {
    "execution": {
     "iopub.execute_input": "2023-02-13T14:38:25.421712Z",
     "iopub.status.busy": "2023-02-13T14:38:25.421510Z",
     "iopub.status.idle": "2023-02-13T14:38:25.424929Z",
     "shell.execute_reply": "2023-02-13T14:38:25.424466Z",
     "shell.execute_reply.started": "2023-02-13T14:38:25.421694Z"
    },
    "tags": []
   },
   "outputs": [
    {
     "name": "stdout",
     "output_type": "stream",
     "text": [
      "数据集图像总数 2575\n",
      "训练集划分比例 0.8\n",
      "训练集图像个数 2060\n",
      "测试集图像个数 515\n"
     ]
    }
   ],
   "source": [
    "print('数据集图像总数', all_file_num)\n",
    "print('训练集划分比例', train_ratio)\n",
    "print('训练集图像个数', len(train_file_list))\n",
    "print('测试集图像个数', len(test_file_list))"
   ]
  },
  {
   "cell_type": "code",
   "execution_count": 7,
   "id": "942553f0-3471-4221-9b5c-07d00419433f",
   "metadata": {
    "execution": {
     "iopub.execute_input": "2023-02-13T14:38:25.426448Z",
     "iopub.status.busy": "2023-02-13T14:38:25.426239Z",
     "iopub.status.idle": "2023-02-13T14:38:25.434168Z",
     "shell.execute_reply": "2023-02-13T14:38:25.433726Z",
     "shell.execute_reply.started": "2023-02-13T14:38:25.426430Z"
    },
    "tags": []
   },
   "outputs": [
    {
     "data": {
      "text/plain": [
       "['VUHSK_1432_78.png',\n",
       " 'SAS_21915_001_32.png',\n",
       " 'SESCAM_102_29.png',\n",
       " 'SESCAM_1_0_111.png',\n",
       " 'VUHSK_1352_61.png']"
      ]
     },
     "execution_count": 7,
     "metadata": {},
     "output_type": "execute_result"
    }
   ],
   "source": [
    "train_file_list[:5]"
   ]
  },
  {
   "cell_type": "code",
   "execution_count": 8,
   "id": "96ce2551-6ff4-406b-9696-f967e559bf60",
   "metadata": {
    "execution": {
     "iopub.execute_input": "2023-02-13T14:38:25.434990Z",
     "iopub.status.busy": "2023-02-13T14:38:25.434782Z",
     "iopub.status.idle": "2023-02-13T14:38:25.438255Z",
     "shell.execute_reply": "2023-02-13T14:38:25.437825Z",
     "shell.execute_reply.started": "2023-02-13T14:38:25.434972Z"
    },
    "tags": []
   },
   "outputs": [
    {
     "data": {
      "text/plain": [
       "['SESCAM_102_23.png',\n",
       " 'SAS_21891_001_32.png',\n",
       " 'VUHSK_1502_24.png',\n",
       " 'SAS_21904_001_58.png',\n",
       " 'VUHSK_2072_12.png']"
      ]
     },
     "execution_count": 8,
     "metadata": {},
     "output_type": "execute_result"
    }
   ],
   "source": [
    "test_file_list[:5]"
   ]
  },
  {
   "cell_type": "markdown",
   "id": "5d7dd245-fb0d-44ac-9666-6ba21ec33f45",
   "metadata": {},
   "source": [
    "## 生成两个txt划分文件"
   ]
  },
  {
   "cell_type": "code",
   "execution_count": 9,
   "id": "c73d0a8d-fcf5-42cd-b6cf-e3521aee3ffb",
   "metadata": {
    "execution": {
     "iopub.execute_input": "2023-02-13T14:38:25.439057Z",
     "iopub.status.busy": "2023-02-13T14:38:25.438849Z",
     "iopub.status.idle": "2023-02-13T14:38:25.442638Z",
     "shell.execute_reply": "2023-02-13T14:38:25.442170Z",
     "shell.execute_reply.started": "2023-02-13T14:38:25.439040Z"
    },
    "tags": []
   },
   "outputs": [],
   "source": [
    "split_path = '/openbayes/input/input1/Glomeruli-dataset/splits'\n",
    "\n",
    "if not os.path.exists(split_path):\n",
    "    os.mkdir(split_path)"
   ]
  },
  {
   "cell_type": "code",
   "execution_count": 10,
   "id": "e84a1007-d716-45c3-9d24-ba7c4966f585",
   "metadata": {
    "execution": {
     "iopub.execute_input": "2023-02-13T14:38:25.443446Z",
     "iopub.status.busy": "2023-02-13T14:38:25.443243Z",
     "iopub.status.idle": "2023-02-13T14:38:25.448060Z",
     "shell.execute_reply": "2023-02-13T14:38:25.447609Z",
     "shell.execute_reply.started": "2023-02-13T14:38:25.443429Z"
    }
   },
   "outputs": [],
   "source": [
    "with open(os.path.join(split_path, 'train.txt'), 'w') as f:\n",
    "    f.writelines(line.split('.')[0] + '\\n' for line in train_file_list)\n",
    "with open(os.path.join(split_path, 'val.txt'), 'w') as f:\n",
    "    f.writelines(line.split('.')[0] + '\\n' for line in test_file_list)"
   ]
  },
  {
   "cell_type": "code",
   "execution_count": null,
   "id": "9972ebd8-bbac-4afa-9d10-6885e3147124",
   "metadata": {},
   "outputs": [],
   "source": []
  }
 ],
 "metadata": {
  "kernelspec": {
   "display_name": "Python 3 (ipykernel)",
   "language": "python",
   "name": "python3"
  },
  "language_info": {
   "codemirror_mode": {
    "name": "ipython",
    "version": 3
   },
   "file_extension": ".py",
   "mimetype": "text/x-python",
   "name": "python",
   "nbconvert_exporter": "python",
   "pygments_lexer": "ipython3",
   "version": "3.8.13"
  }
 },
 "nbformat": 4,
 "nbformat_minor": 5
}
