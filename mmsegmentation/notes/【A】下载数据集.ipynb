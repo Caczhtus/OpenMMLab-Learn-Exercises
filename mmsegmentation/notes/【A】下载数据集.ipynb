{
 "cells": [
  {
   "cell_type": "markdown",
   "id": "c99d266f-77c4-431d-bf1e-7bbebe4e2776",
   "metadata": {},
   "source": [
    "# 下载数据集\n",
    "\n",
    "同济子豪兄\n",
    "\n",
    "2023-1-31"
   ]
  },
  {
   "cell_type": "code",
   "execution_count": 1,
   "id": "c6458cfb-ca22-4b9d-b851-84bd3e6dd008",
   "metadata": {
    "execution": {
     "iopub.execute_input": "2023-02-13T14:30:23.313964Z",
     "iopub.status.busy": "2023-02-13T14:30:23.313741Z",
     "iopub.status.idle": "2023-02-13T14:37:45.551110Z",
     "shell.execute_reply": "2023-02-13T14:37:45.550329Z",
     "shell.execute_reply.started": "2023-02-13T14:30:23.313915Z"
    }
   },
   "outputs": [
    {
     "name": "stdout",
     "output_type": "stream",
     "text": [
      "--2023-02-13 14:30:23--  https://zihao-openmmlab.obs.cn-east-3.myhuaweicloud.com/20230130-mmseg/dataset/Glomeruli-dataset.zip\n",
      "Resolving alchemist-experience (alchemist-experience)... 10.111.218.29\n",
      "Connecting to alchemist-experience (alchemist-experience)|10.111.218.29|:7890... connected.\n",
      "Proxy request sent, awaiting response... 200 OK\n",
      "Length: 2628579054 (2.4G) [application/zip]\n",
      "Saving to: ‘Glomeruli-dataset.zip.1’\n",
      "\n",
      "Glomeruli-dataset.z 100%[===================>]   2.45G  5.66MB/s    in 7m 22s  \n",
      "\n",
      "2023-02-13 14:37:45 (5.67 MB/s) - ‘Glomeruli-dataset.zip.1’ saved [2628579054/2628579054]\n",
      "\n"
     ]
    }
   ],
   "source": [
    "!wget https://zihao-openmmlab.obs.cn-east-3.myhuaweicloud.com/20230130-mmseg/dataset/Glomeruli-dataset.zip"
   ]
  },
  {
   "cell_type": "code",
   "execution_count": 2,
   "id": "81285a83-d35a-4263-a57a-1ed55f6e493c",
   "metadata": {
    "execution": {
     "iopub.execute_input": "2023-02-13T14:37:45.553047Z",
     "iopub.status.busy": "2023-02-13T14:37:45.552826Z",
     "iopub.status.idle": "2023-02-13T14:38:09.195860Z",
     "shell.execute_reply": "2023-02-13T14:38:09.195069Z",
     "shell.execute_reply.started": "2023-02-13T14:37:45.553026Z"
    },
    "tags": []
   },
   "outputs": [],
   "source": [
    "# 解压\n",
    "!unzip Glomeruli-dataset.zip -d /openbayes/input/input1/ >> /dev/null"
   ]
  },
  {
   "cell_type": "code",
   "execution_count": 3,
   "id": "a6f69357-cce0-40c6-98e5-47929ebf54c0",
   "metadata": {
    "execution": {
     "iopub.execute_input": "2023-02-13T14:38:09.196984Z",
     "iopub.status.busy": "2023-02-13T14:38:09.196781Z",
     "iopub.status.idle": "2023-02-13T14:38:09.417389Z",
     "shell.execute_reply": "2023-02-13T14:38:09.416753Z",
     "shell.execute_reply.started": "2023-02-13T14:38:09.196963Z"
    },
    "tags": []
   },
   "outputs": [
    {
     "name": "stdout",
     "output_type": "stream",
     "text": [
      "images\tmasks  splits\n"
     ]
    }
   ],
   "source": [
    "!ls /openbayes/input/input1/Glomeruli-dataset"
   ]
  }
 ],
 "metadata": {
  "kernelspec": {
   "display_name": "Python 3 (ipykernel)",
   "language": "python",
   "name": "python3"
  },
  "language_info": {
   "codemirror_mode": {
    "name": "ipython",
    "version": 3
   },
   "file_extension": ".py",
   "mimetype": "text/x-python",
   "name": "python",
   "nbconvert_exporter": "python",
   "pygments_lexer": "ipython3",
   "version": "3.8.13"
  }
 },
 "nbformat": 4,
 "nbformat_minor": 5
}
