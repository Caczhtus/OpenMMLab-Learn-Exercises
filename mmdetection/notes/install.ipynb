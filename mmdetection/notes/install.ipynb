{
 "cells": [
  {
   "cell_type": "code",
   "execution_count": 1,
   "id": "da2ac802-72b7-4d65-bfde-9fc7082c5e5e",
   "metadata": {
    "execution": {
     "iopub.execute_input": "2023-02-09T14:28:47.363024Z",
     "iopub.status.busy": "2023-02-09T14:28:47.362436Z",
     "iopub.status.idle": "2023-02-09T14:28:47.634401Z",
     "shell.execute_reply": "2023-02-09T14:28:47.633422Z",
     "shell.execute_reply.started": "2023-02-09T14:28:47.362915Z"
    }
   },
   "outputs": [
    {
     "name": "stdout",
     "output_type": "stream",
     "text": [
      "Thu Feb  9 14:28:47 2023       \n",
      "+-----------------------------------------------------------------------------+\n",
      "| NVIDIA-SMI 515.65.01    Driver Version: 515.65.01    CUDA Version: 11.7     |\n",
      "|-------------------------------+----------------------+----------------------+\n",
      "| GPU  Name        Persistence-M| Bus-Id        Disp.A | Volatile Uncorr. ECC |\n",
      "| Fan  Temp  Perf  Pwr:Usage/Cap|         Memory-Usage | GPU-Util  Compute M. |\n",
      "|                               |                      |               MIG M. |\n",
      "|===============================+======================+======================|\n",
      "|   0  NVIDIA GeForce ...  On   | 00000000:A1:00.0 Off |                  N/A |\n",
      "| 30%   24C    P8    22W / 350W |      1MiB / 24576MiB |      0%      Default |\n",
      "|                               |                      |                  N/A |\n",
      "+-------------------------------+----------------------+----------------------+\n",
      "                                                                               \n",
      "+-----------------------------------------------------------------------------+\n",
      "| Processes:                                                                  |\n",
      "|  GPU   GI   CI        PID   Type   Process name                  GPU Memory |\n",
      "|        ID   ID                                                   Usage      |\n",
      "|=============================================================================|\n",
      "|  No running processes found                                                 |\n",
      "+-----------------------------------------------------------------------------+\n"
     ]
    }
   ],
   "source": [
    "!nvidia-smi"
   ]
  },
  {
   "cell_type": "code",
   "execution_count": 2,
   "id": "5a187019-303c-47df-b09d-22d694b7574b",
   "metadata": {
    "execution": {
     "iopub.execute_input": "2023-02-09T14:28:47.635973Z",
     "iopub.status.busy": "2023-02-09T14:28:47.635643Z",
     "iopub.status.idle": "2023-02-09T14:28:48.480041Z",
     "shell.execute_reply": "2023-02-09T14:28:48.479458Z",
     "shell.execute_reply.started": "2023-02-09T14:28:47.635936Z"
    },
    "tags": []
   },
   "outputs": [
    {
     "data": {
      "text/plain": [
       "'1.10.2+cu113'"
      ]
     },
     "execution_count": 2,
     "metadata": {},
     "output_type": "execute_result"
    }
   ],
   "source": [
    "import torch\n",
    "\n",
    "torch.__version__"
   ]
  },
  {
   "cell_type": "code",
   "execution_count": 3,
   "id": "92e7d6ff-3eaa-46bf-8ffc-b84658498269",
   "metadata": {
    "execution": {
     "iopub.execute_input": "2023-02-09T14:28:48.481409Z",
     "iopub.status.busy": "2023-02-09T14:28:48.481214Z",
     "iopub.status.idle": "2023-02-09T14:28:58.787987Z",
     "shell.execute_reply": "2023-02-09T14:28:58.786960Z",
     "shell.execute_reply.started": "2023-02-09T14:28:48.481392Z"
    }
   },
   "outputs": [
    {
     "name": "stdout",
     "output_type": "stream",
     "text": [
      "Looking in indexes: https://pypi.tuna.tsinghua.edu.cn/simple\n",
      "Collecting openmim\n",
      "  Downloading https://pypi.tuna.tsinghua.edu.cn/packages/ef/2f/dc7ce077629d1234f9cf7f17896cdcd49be0791da99aea673cced49b9700/openmim-0.3.6-py2.py3-none-any.whl (51 kB)\n",
      "\u001b[2K     \u001b[90m━━━━━━━━━━━━━━━━━━━━━━━━━━━━━━━━━━━━━━━\u001b[0m \u001b[32m51.3/51.3 kB\u001b[0m \u001b[31m189.2 kB/s\u001b[0m eta \u001b[36m0:00:00\u001b[0ma \u001b[36m0:00:01\u001b[0m\n",
      "\u001b[?25hRequirement already satisfied: pandas in /usr/local/lib/python3.8/site-packages (from openmim) (1.4.3)\n",
      "Collecting model-index\n",
      "  Downloading https://pypi.tuna.tsinghua.edu.cn/packages/0f/a6/4d4cbbef704f186d143e2859296a610a355992e4eae71582bd598093b36a/model_index-0.1.11-py3-none-any.whl (34 kB)\n",
      "Collecting colorama\n",
      "  Downloading https://pypi.tuna.tsinghua.edu.cn/packages/d1/d6/3965ed04c63042e047cb6a3e6ed1a63a35087b6a609aa3a15ed8ac56c221/colorama-0.4.6-py2.py3-none-any.whl (25 kB)\n",
      "Requirement already satisfied: pip>=19.3 in /usr/local/lib/python3.8/site-packages (from openmim) (22.1.2)\n",
      "Requirement already satisfied: requests in /usr/local/lib/python3.8/site-packages (from openmim) (2.28.1)\n",
      "Collecting rich\n",
      "  Downloading https://pypi.tuna.tsinghua.edu.cn/packages/a8/c6/14b77fe7a5fab66ffbeffd6706f598d00a52702846bce0e2339bcf9dd20c/rich-13.3.1-py3-none-any.whl (239 kB)\n",
      "\u001b[2K     \u001b[90m━━━━━━━━━━━━━━━━━━━━━━━━━━━━━━━━━━━━━\u001b[0m \u001b[32m239.0/239.0 kB\u001b[0m \u001b[31m792.4 kB/s\u001b[0m eta \u001b[36m0:00:00\u001b[0ma \u001b[36m0:00:01\u001b[0m\n",
      "\u001b[?25hCollecting tabulate\n",
      "  Downloading https://pypi.tuna.tsinghua.edu.cn/packages/40/44/4a5f08c96eb108af5cb50b41f76142f0afa346dfa99d5296fe7202a11854/tabulate-0.9.0-py3-none-any.whl (35 kB)\n",
      "Requirement already satisfied: Click in /usr/local/lib/python3.8/site-packages (from openmim) (8.1.3)\n",
      "Requirement already satisfied: markdown in /usr/local/lib/python3.8/site-packages (from model-index->openmim) (3.4.1)\n",
      "Requirement already satisfied: pyyaml in /usr/local/lib/python3.8/site-packages (from model-index->openmim) (6.0)\n",
      "Collecting ordered-set\n",
      "  Downloading https://pypi.tuna.tsinghua.edu.cn/packages/33/55/af02708f230eb77084a299d7b08175cff006dea4f2721074b92cdb0296c0/ordered_set-4.1.0-py3-none-any.whl (7.6 kB)\n",
      "Requirement already satisfied: python-dateutil>=2.8.1 in /usr/local/lib/python3.8/site-packages (from pandas->openmim) (2.8.2)\n",
      "Requirement already satisfied: pytz>=2020.1 in /usr/local/lib/python3.8/site-packages (from pandas->openmim) (2022.2.1)\n",
      "Requirement already satisfied: numpy>=1.18.5 in /usr/local/lib/python3.8/site-packages (from pandas->openmim) (1.23.4)\n",
      "Requirement already satisfied: urllib3<1.27,>=1.21.1 in /usr/local/lib/python3.8/site-packages (from requests->openmim) (1.26.11)\n",
      "Requirement already satisfied: certifi>=2017.4.17 in /usr/local/lib/python3.8/site-packages (from requests->openmim) (2022.6.15)\n",
      "Requirement already satisfied: charset-normalizer<3,>=2 in /usr/local/lib/python3.8/site-packages (from requests->openmim) (2.0.4)\n",
      "Requirement already satisfied: idna<4,>=2.5 in /usr/local/lib/python3.8/site-packages (from requests->openmim) (3.3)\n",
      "Collecting markdown-it-py<3.0.0,>=2.1.0\n",
      "  Downloading https://pypi.tuna.tsinghua.edu.cn/packages/f9/3f/ecd1b708973b9a3e4574b43cffc1ce8eb98696da34f1a1c44a68c3c0d737/markdown_it_py-2.1.0-py3-none-any.whl (84 kB)\n",
      "\u001b[2K     \u001b[90m━━━━━━━━━━━━━━━━━━━━━━━━━━━━━━━━━━━━━━━━\u001b[0m \u001b[32m84.5/84.5 kB\u001b[0m \u001b[31m4.3 MB/s\u001b[0m eta \u001b[36m0:00:00\u001b[0m\n",
      "\u001b[?25hCollecting pygments<3.0.0,>=2.14.0\n",
      "  Downloading https://pypi.tuna.tsinghua.edu.cn/packages/0b/42/d9d95cc461f098f204cd20c85642ae40fbff81f74c300341b8d0e0df14e0/Pygments-2.14.0-py3-none-any.whl (1.1 MB)\n",
      "\u001b[2K     \u001b[90m━━━━━━━━━━━━━━━━━━━━━━━━━━━━━━━━━━━━━━━━\u001b[0m \u001b[32m1.1/1.1 MB\u001b[0m \u001b[31m4.6 MB/s\u001b[0m eta \u001b[36m0:00:00\u001b[0ma \u001b[36m0:00:01\u001b[0m\n",
      "\u001b[?25hRequirement already satisfied: typing-extensions<5.0,>=4.0.0 in /usr/local/lib/python3.8/site-packages (from rich->openmim) (4.4.0)\n",
      "Collecting mdurl~=0.1\n",
      "  Downloading https://pypi.tuna.tsinghua.edu.cn/packages/b3/38/89ba8ad64ae25be8de66a6d463314cf1eb366222074cfda9ee839c56a4b4/mdurl-0.1.2-py3-none-any.whl (10.0 kB)\n",
      "Requirement already satisfied: six>=1.5 in /usr/local/lib/python3.8/site-packages (from python-dateutil>=2.8.1->pandas->openmim) (1.16.0)\n",
      "Requirement already satisfied: importlib-metadata>=4.4 in /usr/local/lib/python3.8/site-packages (from markdown->model-index->openmim) (5.0.0)\n",
      "Requirement already satisfied: zipp>=0.5 in /usr/local/lib/python3.8/site-packages (from importlib-metadata>=4.4->markdown->model-index->openmim) (3.10.0)\n",
      "Installing collected packages: tabulate, pygments, ordered-set, mdurl, colorama, markdown-it-py, rich, model-index, openmim\n",
      "  Attempting uninstall: pygments\n",
      "    Found existing installation: Pygments 2.13.0\n",
      "    Uninstalling Pygments-2.13.0:\n",
      "      Successfully uninstalled Pygments-2.13.0\n",
      "Successfully installed colorama-0.4.6 markdown-it-py-2.1.0 mdurl-0.1.2 model-index-0.1.11 openmim-0.3.6 ordered-set-4.1.0 pygments-2.14.0 rich-13.3.1 tabulate-0.9.0\n",
      "\u001b[33mWARNING: Running pip as the 'root' user can result in broken permissions and conflicting behaviour with the system package manager. It is recommended to use a virtual environment instead: https://pip.pypa.io/warnings/venv\u001b[0m\u001b[33m\n",
      "\u001b[0mLooking in indexes: https://pypi.tuna.tsinghua.edu.cn/simple\n",
      "Looking in links: https://download.openmmlab.com/mmcv/dist/cu113/torch1.10.0/index.html\n",
      "Requirement already satisfied: mmcv-full in /usr/local/lib/python3.8/site-packages (1.5.3)\n",
      "Requirement already satisfied: pyyaml in /usr/local/lib/python3.8/site-packages (from mmcv-full) (6.0)\n",
      "Requirement already satisfied: yapf in /usr/local/lib/python3.8/site-packages (from mmcv-full) (0.32.0)\n",
      "Requirement already satisfied: addict in /usr/local/lib/python3.8/site-packages (from mmcv-full) (2.4.0)\n",
      "Requirement already satisfied: Pillow in /usr/local/lib/python3.8/site-packages (from mmcv-full) (9.2.0)\n",
      "Requirement already satisfied: packaging in /usr/local/lib/python3.8/site-packages (from mmcv-full) (21.3)\n",
      "Requirement already satisfied: opencv-python>=3 in /usr/local/lib/python3.8/site-packages (from mmcv-full) (4.5.3.100)\n",
      "Requirement already satisfied: numpy in /usr/local/lib/python3.8/site-packages (from mmcv-full) (1.23.4)\n",
      "Requirement already satisfied: pyparsing!=3.0.5,>=2.0.2 in /usr/local/lib/python3.8/site-packages (from packaging->mmcv-full) (3.0.9)\n",
      "Looking in indexes: https://pypi.tuna.tsinghua.edu.cn/simple\n",
      "Collecting mmdet==2.25.0\n",
      "  Downloading https://pypi.tuna.tsinghua.edu.cn/packages/0d/f7/e29bae8541cdf11fac0bc6327e6e212ffd446d9e7d293a06b6d264d1b154/mmdet-2.25.0.tar.gz (793 kB)\n",
      "\u001b[2K     \u001b[90m━━━━━━━━━━━━━━━━━━━━━━━━━━━━━━━━━━━━━━━\u001b[0m \u001b[32m793.0/793.0 kB\u001b[0m \u001b[31m2.6 MB/s\u001b[0m eta \u001b[36m0:00:00\u001b[0ma \u001b[36m0:00:01\u001b[0m\n",
      "\u001b[?25h  Preparing metadata (setup.py) ... \u001b[?25ldone\n",
      "\u001b[?25hSaved /tmp/tmp38u9ixd7/mmdet-2.25.0.tar.gz\n",
      "Successfully downloaded mmdet\n",
      "\u001b[33mGet 'mim' extra requirements from `mminstall.txt` for mmdet 2.25.0: ['mmcv-full>=1.3.17'].\u001b[0m\n",
      "Looking in indexes: https://pypi.tuna.tsinghua.edu.cn/simple\n",
      "Collecting mmcls==0.23.1\n",
      "  Downloading https://pypi.tuna.tsinghua.edu.cn/packages/ac/0f/5bdf838c82c1f7165aadb4a7518f081263c20e4f76efd4e3eb58e1523ce4/mmcls-0.23.1.tar.gz (277 kB)\n",
      "\u001b[2K     \u001b[90m━━━━━━━━━━━━━━━━━━━━━━━━━━━━━━━━━━━━━━━\u001b[0m \u001b[32m277.0/277.0 kB\u001b[0m \u001b[31m4.9 MB/s\u001b[0m eta \u001b[36m0:00:00\u001b[0ma \u001b[36m0:00:01\u001b[0m\n",
      "\u001b[?25h  Preparing metadata (setup.py) ... \u001b[?25ldone\n",
      "\u001b[?25hSaved /tmp/tmp6ucezfv_/mmcls-0.23.1.tar.gz\n",
      "Successfully downloaded mmcls\n",
      "\u001b[33mmmcls-0.23.1/requirements/mminstall.txt not found in /tmp/tmp6ucezfv_/mmcls-0.23.1.tar.gz\u001b[0m\n",
      "\u001b[33mGet 'mim' extra requirements from `mminstall.txt` for mmcls 0.23.1: [].\u001b[0m\n",
      "\u001b[33mWARNING: Running pip as the 'root' user can result in broken permissions and conflicting behaviour with the system package manager. It is recommended to use a virtual environment instead: https://pip.pypa.io/warnings/venv\u001b[0m\u001b[33m\n",
      "\u001b[0m"
     ]
    }
   ],
   "source": [
    "!pip install -U openmim\n",
    "!mim install mmcv-full"
   ]
  },
  {
   "cell_type": "code",
   "execution_count": 4,
   "id": "8239acae-37ff-4420-bcd3-f6d3a4f7fbca",
   "metadata": {
    "execution": {
     "iopub.execute_input": "2023-02-09T14:28:58.789296Z",
     "iopub.status.busy": "2023-02-09T14:28:58.789094Z",
     "iopub.status.idle": "2023-02-09T14:29:05.839427Z",
     "shell.execute_reply": "2023-02-09T14:29:05.838615Z",
     "shell.execute_reply.started": "2023-02-09T14:28:58.789273Z"
    }
   },
   "outputs": [
    {
     "name": "stdout",
     "output_type": "stream",
     "text": [
      "fatal: destination path 'mmdetection' already exists and is not an empty directory.\n",
      "/output/balloon-detection/mmdetection\n",
      "Looking in indexes: https://pypi.tuna.tsinghua.edu.cn/simple\n",
      "Requirement already satisfied: cython in /usr/local/lib/python3.8/site-packages (from -r requirements/build.txt (line 2)) (0.29.32)\n",
      "Requirement already satisfied: numpy in /usr/local/lib/python3.8/site-packages (from -r requirements/build.txt (line 3)) (1.23.4)\n",
      "\u001b[33mWARNING: Running pip as the 'root' user can result in broken permissions and conflicting behaviour with the system package manager. It is recommended to use a virtual environment instead: https://pip.pypa.io/warnings/venv\u001b[0m\u001b[33m\n",
      "\u001b[0mUsing pip 22.1.2 from /usr/local/lib/python3.8/site-packages/pip (python 3.8)\n",
      "Looking in indexes: https://pypi.tuna.tsinghua.edu.cn/simple\n",
      "Obtaining file:///output/balloon-detection/mmdetection\n",
      "  Running command python setup.py egg_info\n",
      "  running egg_info\n",
      "  creating /tmp/pip-pip-egg-info-azzfevuv/mmdet.egg-info\n",
      "  writing /tmp/pip-pip-egg-info-azzfevuv/mmdet.egg-info/PKG-INFO\n",
      "  writing dependency_links to /tmp/pip-pip-egg-info-azzfevuv/mmdet.egg-info/dependency_links.txt\n",
      "  writing requirements to /tmp/pip-pip-egg-info-azzfevuv/mmdet.egg-info/requires.txt\n",
      "  writing top-level names to /tmp/pip-pip-egg-info-azzfevuv/mmdet.egg-info/top_level.txt\n",
      "  writing manifest file '/tmp/pip-pip-egg-info-azzfevuv/mmdet.egg-info/SOURCES.txt'\n",
      "  reading manifest file '/tmp/pip-pip-egg-info-azzfevuv/mmdet.egg-info/SOURCES.txt'\n",
      "  reading manifest template 'MANIFEST.in'\n",
      "  warning: no files found matching 'mmdet/VERSION'\n",
      "  warning: no files found matching 'mmdet/.mim/demo/*/*'\n",
      "  adding license file 'LICENSE'\n",
      "  writing manifest file '/tmp/pip-pip-egg-info-azzfevuv/mmdet.egg-info/SOURCES.txt'\n",
      "  Preparing metadata (setup.py) ... \u001b[?25l\u001b[?25hdone\n",
      "Requirement already satisfied: matplotlib in /usr/local/lib/python3.8/site-packages (from mmdet==2.28.1) (3.5.3)\n",
      "Requirement already satisfied: numpy in /usr/local/lib/python3.8/site-packages (from mmdet==2.28.1) (1.23.4)\n",
      "Requirement already satisfied: pycocotools in /usr/local/lib/python3.8/site-packages (from mmdet==2.28.1) (2.0.5)\n",
      "Requirement already satisfied: scipy in /usr/local/lib/python3.8/site-packages (from mmdet==2.28.1) (1.9.0)\n",
      "Requirement already satisfied: six in /usr/local/lib/python3.8/site-packages (from mmdet==2.28.1) (1.16.0)\n",
      "Requirement already satisfied: terminaltables in /usr/local/lib/python3.8/site-packages (from mmdet==2.28.1) (3.1.10)\n",
      "Requirement already satisfied: kiwisolver>=1.0.1 in /usr/local/lib/python3.8/site-packages (from matplotlib->mmdet==2.28.1) (1.4.4)\n",
      "Requirement already satisfied: pillow>=6.2.0 in /usr/local/lib/python3.8/site-packages (from matplotlib->mmdet==2.28.1) (9.2.0)\n",
      "Requirement already satisfied: cycler>=0.10 in /usr/local/lib/python3.8/site-packages (from matplotlib->mmdet==2.28.1) (0.11.0)\n",
      "Requirement already satisfied: packaging>=20.0 in /usr/local/lib/python3.8/site-packages (from matplotlib->mmdet==2.28.1) (21.3)\n",
      "Requirement already satisfied: pyparsing>=2.2.1 in /usr/local/lib/python3.8/site-packages (from matplotlib->mmdet==2.28.1) (3.0.9)\n",
      "Requirement already satisfied: fonttools>=4.22.0 in /usr/local/lib/python3.8/site-packages (from matplotlib->mmdet==2.28.1) (4.37.1)\n",
      "Requirement already satisfied: python-dateutil>=2.7 in /usr/local/lib/python3.8/site-packages (from matplotlib->mmdet==2.28.1) (2.8.2)\n",
      "Installing collected packages: mmdet\n",
      "  Attempting uninstall: mmdet\n",
      "    Found existing installation: mmdet 2.25.0\n",
      "    Uninstalling mmdet-2.25.0:\n",
      "      Removing file or directory /usr/local/lib/python3.8/site-packages/mmdet-2.25.0.dist-info/\n",
      "      Removing file or directory /usr/local/lib/python3.8/site-packages/mmdet/\n",
      "      Successfully uninstalled mmdet-2.25.0\n",
      "  Running setup.py develop for mmdet\n",
      "    Running command python setup.py develop\n",
      "    running develop\n",
      "    running egg_info\n",
      "    writing mmdet.egg-info/PKG-INFO\n",
      "    writing dependency_links to mmdet.egg-info/dependency_links.txt\n",
      "    writing requirements to mmdet.egg-info/requires.txt\n",
      "    writing top-level names to mmdet.egg-info/top_level.txt\n",
      "    reading manifest file 'mmdet.egg-info/SOURCES.txt'\n",
      "    reading manifest template 'MANIFEST.in'\n",
      "    /usr/local/lib/python3.8/site-packages/setuptools/command/easy_install.py:144: EasyInstallDeprecationWarning: easy_install command is deprecated. Use build and pip and other standards-based tools.\n",
      "      warnings.warn(\n",
      "    /usr/local/lib/python3.8/site-packages/setuptools/command/install.py:34: SetuptoolsDeprecationWarning: setup.py install is deprecated. Use build and pip and other standards-based tools.\n",
      "      warnings.warn(\n",
      "    warning: no files found matching 'mmdet/VERSION'\n",
      "    warning: no files found matching 'mmdet/.mim/demo/*/*'\n",
      "    adding license file 'LICENSE'\n",
      "    writing manifest file 'mmdet.egg-info/SOURCES.txt'\n",
      "    running build_ext\n",
      "    Creating /usr/local/lib/python3.8/site-packages/mmdet.egg-link (link to .)\n",
      "    Adding mmdet 2.28.1 to easy-install.pth file\n",
      "\n",
      "    Installed /output/balloon-detection/mmdetection\n",
      "    /usr/local/lib/python3.8/site-packages/torch/utils/cpp_extension.py:381: UserWarning: Attempted to use ninja as the BuildExtension backend but we could not find ninja.. Falling back to using the slow distutils backend.\n",
      "      warnings.warn(msg.format('we could not find ninja.'))\n",
      "Successfully installed mmdet-2.28.1\n",
      "\u001b[33mWARNING: Running pip as the 'root' user can result in broken permissions and conflicting behaviour with the system package manager. It is recommended to use a virtual environment instead: https://pip.pypa.io/warnings/venv\u001b[0m\u001b[33m\n",
      "\u001b[0m"
     ]
    }
   ],
   "source": [
    "!git clone https://github.com/open-mmlab/mmdetection.git\n",
    "%cd mmdetection\n",
    "!pip install -r requirements/build.txt\n",
    "!pip install -v -e ."
   ]
  },
  {
   "cell_type": "markdown",
   "id": "7b76c4ac-845f-47c0-ae5c-72aafe246ce5",
   "metadata": {},
   "source": [
    "# test"
   ]
  },
  {
   "cell_type": "code",
   "execution_count": 5,
   "id": "1af5eeff-c276-42d8-8ae8-d729ef81c71c",
   "metadata": {
    "execution": {
     "iopub.execute_input": "2023-02-09T14:29:05.840388Z",
     "iopub.status.busy": "2023-02-09T14:29:05.840203Z",
     "iopub.status.idle": "2023-02-09T14:29:05.843502Z",
     "shell.execute_reply": "2023-02-09T14:29:05.843073Z",
     "shell.execute_reply.started": "2023-02-09T14:29:05.840368Z"
    }
   },
   "outputs": [],
   "source": [
    "# !wget -P checkpoint/ http://download.openmmlab.com/mmdetection/v2.0/faster_rcnn/faster_rcnn_r50_fpn_1x_coco/faster_rcnn_r50_fpn_1x_coco_20200130-047c8118.pth"
   ]
  },
  {
   "cell_type": "code",
   "execution_count": 6,
   "id": "80002aec-78be-457a-bbcc-57b431d30c26",
   "metadata": {
    "execution": {
     "iopub.execute_input": "2023-02-09T14:29:05.844281Z",
     "iopub.status.busy": "2023-02-09T14:29:05.844104Z",
     "iopub.status.idle": "2023-02-09T14:29:05.848615Z",
     "shell.execute_reply": "2023-02-09T14:29:05.847810Z",
     "shell.execute_reply.started": "2023-02-09T14:29:05.844264Z"
    },
    "tags": []
   },
   "outputs": [],
   "source": [
    "# from mmdet.apis import init_detector, inference_detector\n",
    "\n",
    "# config_file = 'configs/faster_rcnn/faster_rcnn_r50_fpn_1x_coco.py'\n",
    "# # 从 model zoo 下载 checkpoint 并放在 `checkpoints/` 文件下\n",
    "# # 网址为: http://download.openmmlab.com/mmdetection/v2.0/faster_rcnn/faster_rcnn_r50_fpn_1x_coco/faster_rcnn_r50_fpn_1x_coco_20200130-047c8118.pth\n",
    "# checkpoint_file = 'checkpoint/faster_rcnn_r50_fpn_1x_coco_20200130-047c8118.pth'\n",
    "# device = 'cuda:0'\n",
    "# # 初始化检测器\n",
    "# model = init_detector(config_file, checkpoint_file, device=device)\n",
    "# # 推理演示图像\n",
    "# res = inference_detector(model, 'demo/demo.jpg')\n",
    "\n",
    "# print(type(res))"
   ]
  },
  {
   "cell_type": "code",
   "execution_count": null,
   "id": "3828ecff-f79b-4c9a-a422-9b782eef4863",
   "metadata": {},
   "outputs": [],
   "source": []
  }
 ],
 "metadata": {
  "kernelspec": {
   "display_name": "Python 3 (ipykernel)",
   "language": "python",
   "name": "python3"
  },
  "language_info": {
   "codemirror_mode": {
    "name": "ipython",
    "version": 3
   },
   "file_extension": ".py",
   "mimetype": "text/x-python",
   "name": "python",
   "nbconvert_exporter": "python",
   "pygments_lexer": "ipython3",
   "version": "3.8.13"
  }
 },
 "nbformat": 4,
 "nbformat_minor": 5
}
